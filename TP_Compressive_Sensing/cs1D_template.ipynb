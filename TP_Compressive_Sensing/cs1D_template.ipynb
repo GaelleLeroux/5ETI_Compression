{
 "cells": [
  {
   "cell_type": "code",
   "execution_count": null,
   "metadata": {},
   "outputs": [],
   "source": [
    "import numpy as np      # see: https://mathesaurus.sourceforge.net/matlab-numpy.html\n",
    "import cv2\n",
    "from plotly import express as px\n",
    "import pandas\n",
    "\n",
    "import scipy as sci\n",
    "import pywt\n",
    "\n",
    "import imicpe\n",
    "import imicpe.cs as cs \n",
    "print(imicpe.__version__)"
   ]
  },
  {
   "cell_type": "markdown",
   "metadata": {},
   "source": [
    "# **Initialization**"
   ]
  },
  {
   "cell_type": "markdown",
   "metadata": {},
   "source": [
    "## Load groundtruth"
   ]
  },
  {
   "cell_type": "markdown",
   "metadata": {},
   "source": [
    "Generate a signal that is naturally sparse in the wavelet/Fourier domain"
   ]
  },
  {
   "cell_type": "code",
   "execution_count": null,
   "metadata": {},
   "outputs": [],
   "source": [
    "# change-of-basis operator\n",
    "sparsity_dom = 'wavelet'\n",
    "match sparsity_dom:\n",
    "    case 'wavelet':\n",
    "        wavelet = ...\n",
    "        J  = ...\n",
    "        \n",
    "        P  = lambda x: ...\n",
    "        Pt = lambda x: ...\n",
    "        \n",
    "    case 'fourier':\n",
    "        P  = lambda x: ...\n",
    "        Pt = lambda x: ..."
   ]
  },
  {
   "cell_type": "code",
   "execution_count": null,
   "metadata": {},
   "outputs": [],
   "source": [
    "t = ...\n",
    "\n",
    "# generate sparse signal s from random +/- 1 coefficients\n",
    "sbar = ...\n",
    "\n",
    "# generate groudtruth full signal xbar from groudtruth sparse signal sbar\n",
    "xbar = ...\n",
    "\n",
    "# add noise\n",
    "xnoisy = ...\n",
    "\n",
    "# plot \n",
    "groundtruth = pandas.DataFrame({'x':t, 'y':xbar,               'legend':'groundtruth xbar'})\n",
    "wav_coeffs  = pandas.DataFrame({'x':t, 'y':sbar,               'legend':'wavelet coeffs of xbar'})\n",
    "fig = px.line(pandas.concat([groundtruth,wav_coeffs]),\n",
    "              x='x',\n",
    "              y='y', \n",
    "              color='legend',              \n",
    "              # labels={'x':'','y':''},\n",
    "              title='Signal with corresponding wavelet coefficients', \n",
    "              width=800, height=450)\n",
    "fig.show()"
   ]
  },
  {
   "cell_type": "markdown",
   "metadata": {},
   "source": [
    "## Build the measurement from a randon sensing matrix"
   ]
  },
  {
   "cell_type": "code",
   "execution_count": null,
   "metadata": {},
   "outputs": [],
   "source": [
    "Amat = ...\n",
    "\n",
    "fig = px.imshow(Amat, color_continuous_scale='gray', range_color=[0,1], title=\"Acquisition matrix A\")\n",
    "fig.update_xaxes(showticklabels=False)\n",
    "fig.update_yaxes(showticklabels=False)\n",
    "fig.show()\n",
    "\n",
    "# ensure column-wise orthogonality\n",
    "Amat = sci.linalg.orth(Amat.T).T  \n"
   ]
  },
  {
   "cell_type": "markdown",
   "metadata": {},
   "source": [
    "## Build the full acquisition operators assuming sparsity in the wavelet/Fourier domain\n",
    "\n",
    "x is sparse in the wavelet domain, then:\\\n",
    "z = A*x = A*P*s\n",
    "\n",
    "where \\\n",
    "    . s is the (sparse) vector of wavelet coefficients to recover\\\n",
    "    . P is the inverse DWT (x = P*s)\n"
   ]
  },
  {
   "cell_type": "code",
   "execution_count": null,
   "metadata": {},
   "outputs": [],
   "source": [
    "A  = lambda x: ...\n",
    "At = lambda x: ...\n",
    "\n",
    "AP   = lambda s: ...\n",
    "AP_t = lambda s: ..."
   ]
  },
  {
   "cell_type": "markdown",
   "metadata": {},
   "source": [
    "## Build the measurement vector"
   ]
  },
  {
   "cell_type": "code",
   "execution_count": null,
   "metadata": {},
   "outputs": [],
   "source": [
    "z = ...\n",
    "\n",
    "measurements = pandas.DataFrame({'x':np.arange(len(z)), 'y':z,                'legend':'measurements'})\n",
    "fig = px.line(measurements,\n",
    "              x='x',\n",
    "              y='y', \n",
    "              color='legend',            \n",
    "              labels={'x':'','y':''},\n",
    "              title='Measurements', \n",
    "              width=800, height=450)\n",
    "fig.show()\n"
   ]
  },
  {
   "cell_type": "markdown",
   "metadata": {},
   "source": [
    "# **Solutions with various methods**"
   ]
  },
  {
   "cell_type": "markdown",
   "metadata": {},
   "source": [
    "## LMS\n"
   ]
  },
  {
   "cell_type": "code",
   "execution_count": null,
   "metadata": {},
   "outputs": [],
   "source": [
    "s_lms = ...\n",
    "x_lms = ...\n",
    "\n",
    "xhat_lms = pandas.DataFrame({'x':t, 'y':x_lms,                'legend':'wav-LMS ('+str(np.round(cs.snr(x_lms,xbar),2))+'dB)'})"
   ]
  },
  {
   "cell_type": "markdown",
   "metadata": {},
   "source": [
    "## Tikhonov"
   ]
  },
  {
   "cell_type": "code",
   "execution_count": null,
   "metadata": {},
   "outputs": [],
   "source": []
  },
  {
   "cell_type": "markdown",
   "metadata": {},
   "source": [
    "## L1"
   ]
  },
  {
   "cell_type": "code",
   "execution_count": null,
   "metadata": {},
   "outputs": [],
   "source": []
  },
  {
   "cell_type": "markdown",
   "metadata": {},
   "source": [
    "## **Plot results**"
   ]
  },
  {
   "cell_type": "code",
   "execution_count": null,
   "metadata": {},
   "outputs": [],
   "source": [
    "# for colors, see: https://matplotlib.org/3.1.0/gallery/color/named_colors.html\n",
    "\n",
    "cmap = [...]\n",
    "lsty = [...]\n",
    "\n",
    "\n",
    "# plot signals\n",
    "plt_xhat = pandas.concat([groundtruth, \n",
    "                          xhat_lms,\n",
    "                          ... ]) \n",
    "\n",
    "fig = px.line(plt_xhat,\n",
    "              x='x',\n",
    "              y='y', \n",
    "              color='legend',          color_discrete_sequence=cmap,\n",
    "              line_dash='legend',     line_dash_sequence=lsty,               \n",
    "              labels={'x':'temps','y':''},\n",
    "              title='Reconstructions with: #samples=' +str(N)+ ', #measures=' +str(M)+ ' (' +str(int(np.round(100*M/N)))+ '%), #nonzero coeffs=' +str(K), \n",
    "              width=800, height=450)\n",
    "\n",
    "fig.show()\n",
    "\n",
    "# plot cost function\n",
    "plt_loss = pandas.concat([...]) \n",
    "\n",
    "fig = px.line(plt_loss,\n",
    "              x='x', \n",
    "              y='y', \n",
    "              color='legend',         color_discrete_sequence=cmap,\n",
    "              line_dash='legend',     line_dash_sequence=lsty,               \n",
    "              log_x=True, log_y=True,\n",
    "              labels={'x':'itérations (logscale)','y':'E(x^k) (logscale)'},\n",
    "              title='Évolution des fonctions de coût en fonction des itérations',\n",
    "              width=800, height=450)\n",
    "fig.show()\n",
    "\n"
   ]
  }
 ],
 "metadata": {
  "kernelspec": {
   "display_name": "venv-msi",
   "language": "python",
   "name": "python3"
  },
  "language_info": {
   "codemirror_mode": {
    "name": "ipython",
    "version": 3
   },
   "file_extension": ".py",
   "mimetype": "text/x-python",
   "name": "python",
   "nbconvert_exporter": "python",
   "pygments_lexer": "ipython3",
   "version": "3.11.10"
  }
 },
 "nbformat": 4,
 "nbformat_minor": 2
}
